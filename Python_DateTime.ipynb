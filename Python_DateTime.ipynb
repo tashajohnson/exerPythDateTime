{
 "cells": [
  {
   "cell_type": "markdown",
   "id": "906af45f",
   "metadata": {
    "deletable": false,
    "editable": false,
    "nbgrader": {
     "cell_type": "markdown",
     "checksum": "46647500f9b2866911caf582b0d7420b",
     "grade": false,
     "grade_id": "cell-01017ee6c497315c",
     "locked": true,
     "schema_version": 3,
     "solution": false,
     "task": false
    }
   },
   "source": [
    "# Python File Objects"
   ]
  },
  {
   "cell_type": "markdown",
   "id": "2f78d00c",
   "metadata": {
    "deletable": false,
    "editable": false,
    "nbgrader": {
     "cell_type": "markdown",
     "checksum": "2cda6ecdfd0f08656a0302905614539f",
     "grade": false,
     "grade_id": "cell-342a3860611923b5",
     "locked": true,
     "schema_version": 3,
     "solution": false,
     "task": false
    }
   },
   "source": [
    "### Instructions\n",
    "\n",
    "* Watch the video tutorial about the os module at https://www.youtube.com/watch?v=eirjjyP2qcQ&list=PLG9A6ovzPqX6d9uWzx0UYN9pm0zzl5ofA&index=29&t=475s \n",
    "* Complete the programming exercises below as you go through the tutorial.\n",
    "* Delete or comment out the line of code in each cell which says `raise NotImplementedError()` and replace it with your own.\n",
    "\n",
    "### Exercises"
   ]
  },
  {
   "cell_type": "markdown",
   "id": "cb89b16a",
   "metadata": {
    "deletable": false,
    "editable": false,
    "nbgrader": {
     "cell_type": "markdown",
     "checksum": "eb670d0dfb8556029e73928af43c5205",
     "grade": false,
     "grade_id": "cell-1463d35926de23a1",
     "locked": true,
     "schema_version": 3,
     "solution": false,
     "task": false
    }
   },
   "source": [
    "Write code in the cell below.\n",
    "\n",
    "* Import the `datetime` module."
   ]
  },
  {
   "cell_type": "code",
   "execution_count": 1,
   "id": "2d44a850",
   "metadata": {
    "deletable": false,
    "nbgrader": {
     "cell_type": "code",
     "checksum": "4816779a96ab173eb1d3f2205327fe91",
     "grade": true,
     "grade_id": "cell-99768321ea2f4c1a",
     "locked": false,
     "points": 1,
     "schema_version": 3,
     "solution": true,
     "task": false
    }
   },
   "outputs": [],
   "source": [
    "\n",
    "# YOUR CODE HERE\n",
    "import datetime"
   ]
  },
  {
   "cell_type": "markdown",
   "id": "11289a6e",
   "metadata": {
    "deletable": false,
    "editable": false,
    "nbgrader": {
     "cell_type": "markdown",
     "checksum": "b12ca0ae4a3693b15a353f77e3e68661",
     "grade": false,
     "grade_id": "cell-8fc4d2257d45e096",
     "locked": true,
     "schema_version": 3,
     "solution": false,
     "task": false
    }
   },
   "source": [
    "Write your answer as comments in the cell below.\n",
    "\n",
    "* What is the difference between `naive` and `aware` datetimes?"
   ]
  },
  {
   "cell_type": "code",
   "execution_count": null,
   "id": "3b2a05a5",
   "metadata": {
    "deletable": false,
    "nbgrader": {
     "cell_type": "code",
     "checksum": "3999568942349fff80fb88342ccfd4cb",
     "grade": true,
     "grade_id": "cell-57f0780f498ae10d",
     "locked": false,
     "points": 1,
     "schema_version": 3,
     "solution": true,
     "task": false
    }
   },
   "outputs": [],
   "source": [
    "\n",
    "# YOUR CODE HERE\n",
    "# naive dates and times don't have enough information to determine details like timezones and daylight savings\n",
    "# aware datetimes have the information to deal with timezones and daylight savings"
   ]
  },
  {
   "cell_type": "markdown",
   "id": "61d7e0b4",
   "metadata": {
    "deletable": false,
    "editable": false,
    "nbgrader": {
     "cell_type": "markdown",
     "checksum": "12f7f2a16dc4ed6028113b074412cc7c",
     "grade": false,
     "grade_id": "cell-9dce7a5a72b6d439",
     "locked": true,
     "schema_version": 3,
     "solution": false,
     "task": false
    }
   },
   "source": [
    "Write code in the cell below.\n",
    "\n",
    "* Get today's date in a variable called `tday` and print it."
   ]
  },
  {
   "cell_type": "code",
   "execution_count": 2,
   "id": "2a9a5253",
   "metadata": {
    "deletable": false,
    "nbgrader": {
     "cell_type": "code",
     "checksum": "5fe7e9a1b9bd180ba234e402f2f0822d",
     "grade": true,
     "grade_id": "cell-7c25a0703a16c5c4",
     "locked": false,
     "points": 1,
     "schema_version": 3,
     "solution": true,
     "task": false
    }
   },
   "outputs": [
    {
     "name": "stdout",
     "output_type": "stream",
     "text": [
      "2022-09-21\n"
     ]
    }
   ],
   "source": [
    "\n",
    "# YOUR CODE HERE\n",
    "tday = datetime.date.today()\n",
    "print(tday)"
   ]
  },
  {
   "cell_type": "markdown",
   "id": "401ad000",
   "metadata": {
    "deletable": false,
    "editable": false,
    "nbgrader": {
     "cell_type": "markdown",
     "checksum": "7302286519bdd3c771a7a1a0dfe34a29",
     "grade": false,
     "grade_id": "cell-d54ca0e64e409c22",
     "locked": true,
     "schema_version": 3,
     "solution": false,
     "task": false
    }
   },
   "source": [
    "Write code in the cell below.\n",
    "\n",
    "* Get the day of the week for today's date in a variable called `tday` and print it.\n",
    "* Use regular `weekday()` and `isoweekday()`"
   ]
  },
  {
   "cell_type": "code",
   "execution_count": 3,
   "id": "bb0dea16",
   "metadata": {
    "deletable": false,
    "nbgrader": {
     "cell_type": "code",
     "checksum": "f69e2082a8963584aaa033e22054d422",
     "grade": true,
     "grade_id": "cell-04bb018ed07b2acc",
     "locked": false,
     "points": 1,
     "schema_version": 3,
     "solution": true,
     "task": false
    }
   },
   "outputs": [
    {
     "name": "stdout",
     "output_type": "stream",
     "text": [
      "2\n",
      "3\n"
     ]
    }
   ],
   "source": [
    "\n",
    "# YOUR CODE HERE\n",
    "tday = datetime.date.today()\n",
    "print(tday.weekday())\n",
    "print(tday.isoweekday())"
   ]
  },
  {
   "cell_type": "markdown",
   "id": "6580de5a",
   "metadata": {
    "deletable": false,
    "editable": false,
    "nbgrader": {
     "cell_type": "markdown",
     "checksum": "fc654d866be72c0df797f82109e95102",
     "grade": false,
     "grade_id": "cell-f9d983c1e3abde1c",
     "locked": true,
     "schema_version": 3,
     "solution": false,
     "task": false
    }
   },
   "source": [
    "Write code in the cell below.\n",
    "\n",
    "* Print the date for one week from today."
   ]
  },
  {
   "cell_type": "code",
   "execution_count": 5,
   "id": "4e377f21",
   "metadata": {
    "deletable": false,
    "nbgrader": {
     "cell_type": "code",
     "checksum": "6a6ca3d0fea147b62bb89ca9143754aa",
     "grade": true,
     "grade_id": "cell-9d3972c9b28c79d3",
     "locked": false,
     "points": 1,
     "schema_version": 3,
     "solution": true,
     "task": false
    }
   },
   "outputs": [
    {
     "name": "stdout",
     "output_type": "stream",
     "text": [
      "2022-09-28\n"
     ]
    }
   ],
   "source": [
    "\n",
    "# YOUR CODE HERE\n",
    "tdelta = datetime.timedelta(days=7)\n",
    "print(tday + tdelta)"
   ]
  },
  {
   "cell_type": "markdown",
   "id": "6c45c4ff",
   "metadata": {
    "deletable": false,
    "editable": false,
    "nbgrader": {
     "cell_type": "markdown",
     "checksum": "e00b5a69533bff2d725a554bf7e6c47f",
     "grade": false,
     "grade_id": "cell-07a130da04f61b90",
     "locked": true,
     "schema_version": 3,
     "solution": false,
     "task": false
    }
   },
   "source": [
    "Write code in the cell below.\n",
    "\n",
    "* Find the number of days until Christmas and print it out."
   ]
  },
  {
   "cell_type": "code",
   "execution_count": 8,
   "id": "7e7a49e4",
   "metadata": {
    "deletable": false,
    "nbgrader": {
     "cell_type": "code",
     "checksum": "90293cd3ebb5ac37076f2f93ff895131",
     "grade": true,
     "grade_id": "cell-2e4415c711039b36",
     "locked": false,
     "points": 1,
     "schema_version": 3,
     "solution": true,
     "task": false
    }
   },
   "outputs": [
    {
     "name": "stdout",
     "output_type": "stream",
     "text": [
      "95\n"
     ]
    }
   ],
   "source": [
    "\n",
    "# YOUR CODE HERE\n",
    "christmas = datetime.date(2022, 12, 25)\n",
    "till_christmas = christmas - tday\n",
    "print(till_christmas.days)"
   ]
  },
  {
   "cell_type": "markdown",
   "id": "a362fe1e",
   "metadata": {
    "deletable": false,
    "editable": false,
    "nbgrader": {
     "cell_type": "markdown",
     "checksum": "4412096e495fac41be9fe040562d5da8",
     "grade": false,
     "grade_id": "cell-2e63973fb1732752",
     "locked": true,
     "schema_version": 3,
     "solution": false,
     "task": false
    }
   },
   "source": [
    "Write code in the cell below.\n",
    "\n",
    "* Find the number of days until Christmas and print it out."
   ]
  },
  {
   "cell_type": "code",
   "execution_count": 9,
   "id": "0cf4a779",
   "metadata": {
    "deletable": false,
    "nbgrader": {
     "cell_type": "code",
     "checksum": "509e4e42d4d30e512ed50ba5ce3aae8e",
     "grade": true,
     "grade_id": "cell-45c5de13c33c9e51",
     "locked": false,
     "points": 1,
     "schema_version": 3,
     "solution": true,
     "task": false
    }
   },
   "outputs": [
    {
     "name": "stdout",
     "output_type": "stream",
     "text": [
      "95\n"
     ]
    }
   ],
   "source": [
    "\n",
    "# YOUR CODE HERE\n",
    "christmas = datetime.date(2022, 12, 25)\n",
    "till_christmas = christmas - tday\n",
    "print(till_christmas.days)"
   ]
  },
  {
   "cell_type": "markdown",
   "id": "2debf945",
   "metadata": {
    "deletable": false,
    "editable": false,
    "nbgrader": {
     "cell_type": "markdown",
     "checksum": "160040bb584dbf6a9889244a5275899b",
     "grade": false,
     "grade_id": "cell-3a5fcee8ae0de568",
     "locked": true,
     "schema_version": 3,
     "solution": false,
     "task": false
    }
   },
   "source": [
    "Write code in the cell below.\n",
    "\n",
    "* Get the current date and time including milliseconds in a variable called `dt` and print it out.\n",
    "* Print just the date for today.\n",
    "* Print just the time for today.\n",
    "* Create a time delta for 7 days.\n",
    "* Print the result of adding 7 days to todays datetime."
   ]
  },
  {
   "cell_type": "code",
   "execution_count": 11,
   "id": "8cc5e525",
   "metadata": {
    "deletable": false,
    "nbgrader": {
     "cell_type": "code",
     "checksum": "cf2d67bc694c23a9b521f4a2473e6ab1",
     "grade": true,
     "grade_id": "cell-2862550a66ad51e6",
     "locked": false,
     "points": 3,
     "schema_version": 3,
     "solution": true,
     "task": false
    }
   },
   "outputs": [
    {
     "name": "stdout",
     "output_type": "stream",
     "text": [
      "2022-09-21\n",
      "17:05:43.664107\n",
      "2022-09-28 17:05:43.664107\n"
     ]
    }
   ],
   "source": [
    "\n",
    "# YOUR CODE HERE\n",
    "dt = datetime.datetime.now()\n",
    "print(dt.date())\n",
    "print(dt.time())\n",
    "tdelta = datetime.timedelta(days=7)\n",
    "print(dt + tdelta)\n"
   ]
  },
  {
   "cell_type": "markdown",
   "id": "2a7f31a2",
   "metadata": {
    "deletable": false,
    "editable": false,
    "nbgrader": {
     "cell_type": "markdown",
     "checksum": "b4847787fe4f5eb11dc22965705bcc5d",
     "grade": false,
     "grade_id": "cell-3d0e671a477b5d1c",
     "locked": true,
     "schema_version": 3,
     "solution": false,
     "task": false
    }
   },
   "source": [
    "Write code in the cell below.\n",
    "\n",
    "* Create a variable called dt_today using the `today()` method.\n",
    "* Create a variable called dt_now using the `now()` method.\n",
    "* Create a variable called dt_utcnow using the `utcnow()` method."
   ]
  },
  {
   "cell_type": "code",
   "execution_count": 12,
   "id": "9ff91b89",
   "metadata": {
    "deletable": false,
    "nbgrader": {
     "cell_type": "code",
     "checksum": "9a2da2e8948c7ce9ca0bc01043ab9b56",
     "grade": true,
     "grade_id": "cell-891e7dc7fef7e7dc",
     "locked": false,
     "points": 1,
     "schema_version": 3,
     "solution": true,
     "task": false
    }
   },
   "outputs": [
    {
     "name": "stdout",
     "output_type": "stream",
     "text": [
      "2022-09-21 17:08:02.749138\n",
      "2022-09-21 17:08:02.749186\n",
      "2022-09-21 23:08:02.749219\n"
     ]
    }
   ],
   "source": [
    "\n",
    "# YOUR CODE HERE\n",
    "dt_today =datetime.datetime.today()\n",
    "dt_now = datetime.datetime.now()\n",
    "dt_utcnow =datetime.datetime.utcnow()\n",
    "\n",
    "print(dt_today)\n",
    "print(dt_now)\n",
    "print(dt_utcnow)"
   ]
  },
  {
   "cell_type": "markdown",
   "id": "09609579",
   "metadata": {
    "deletable": false,
    "editable": false,
    "nbgrader": {
     "cell_type": "markdown",
     "checksum": "f423325d6632b41beb9888a164befcdb",
     "grade": false,
     "grade_id": "cell-8dd28fc63c863341",
     "locked": true,
     "schema_version": 3,
     "solution": false,
     "task": false
    }
   },
   "source": [
    "Write code in the cell below.\n",
    "\n",
    "* Import `pytz`.\n",
    "* Create a timezone aware datetime called `dt` for `2016, 7, 27, 12, 30, 45` using UTC time zone.\n",
    "* Print `dt`.\n",
    "* Create a variable called dt_now using the `now()` method and pass in UTC time zone and print it.\n",
    "* Create a variable called dt_utcnow using the `utcnow()` method and use `.replace` to add UTC time zone and print it."
   ]
  },
  {
   "cell_type": "code",
   "execution_count": 19,
   "id": "6bef96ff",
   "metadata": {
    "deletable": false,
    "nbgrader": {
     "cell_type": "code",
     "checksum": "40840c452983644004cd3ff54bc21afa",
     "grade": true,
     "grade_id": "cell-556e0be27e5e7591",
     "locked": false,
     "points": 1,
     "schema_version": 3,
     "solution": true,
     "task": false
    }
   },
   "outputs": [
    {
     "ename": "ModuleNotFoundError",
     "evalue": "No module named 'pytz'",
     "output_type": "error",
     "traceback": [
      "\u001b[0;31m---------------------------------------------------------------------------\u001b[0m",
      "\u001b[0;31mModuleNotFoundError\u001b[0m                       Traceback (most recent call last)",
      "\u001b[1;32m/Users/natashajohnson/Dev_Projects/exerPythDateTime/Python_DateTime.ipynb Cell 22\u001b[0m in \u001b[0;36m<cell line: 2>\u001b[0;34m()\u001b[0m\n\u001b[1;32m      <a href='vscode-notebook-cell:/Users/natashajohnson/Dev_Projects/exerPythDateTime/Python_DateTime.ipynb#X30sZmlsZQ%3D%3D?line=0'>1</a>\u001b[0m \u001b[39m# YOUR CODE HERE\u001b[39;00m\n\u001b[0;32m----> <a href='vscode-notebook-cell:/Users/natashajohnson/Dev_Projects/exerPythDateTime/Python_DateTime.ipynb#X30sZmlsZQ%3D%3D?line=1'>2</a>\u001b[0m \u001b[39mimport\u001b[39;00m \u001b[39mpytz\u001b[39;00m\n\u001b[1;32m      <a href='vscode-notebook-cell:/Users/natashajohnson/Dev_Projects/exerPythDateTime/Python_DateTime.ipynb#X30sZmlsZQ%3D%3D?line=3'>4</a>\u001b[0m dt \u001b[39m=\u001b[39m datetime\u001b[39m.\u001b[39mdatetime(\u001b[39m2016\u001b[39m, \u001b[39m7\u001b[39m, \u001b[39m27\u001b[39m, \u001b[39m12\u001b[39m, \u001b[39m30\u001b[39m, \u001b[39m45\u001b[39m, tzinfo\u001b[39m=\u001b[39mpytz\u001b[39m.\u001b[39mUTC)\n\u001b[1;32m      <a href='vscode-notebook-cell:/Users/natashajohnson/Dev_Projects/exerPythDateTime/Python_DateTime.ipynb#X30sZmlsZQ%3D%3D?line=4'>5</a>\u001b[0m \u001b[39mprint\u001b[39m(dt)\n",
      "\u001b[0;31mModuleNotFoundError\u001b[0m: No module named 'pytz'"
     ]
    }
   ],
   "source": [
    "\n",
    "# YOUR CODE HERE\n",
    "import pytz\n",
    "\n",
    "dt = datetime.datetime(2016, 7, 27, 12, 30, 45, tzinfo=pytz.UTC)\n",
    "print(dt)"
   ]
  },
  {
   "cell_type": "markdown",
   "id": "53d31afb",
   "metadata": {
    "deletable": false,
    "editable": false,
    "nbgrader": {
     "cell_type": "markdown",
     "checksum": "c154712b9e10b03a546023ef2cf3965a",
     "grade": false,
     "grade_id": "cell-3900cf054a2beb3b",
     "locked": true,
     "schema_version": 3,
     "solution": false,
     "task": false
    }
   },
   "source": [
    "Write code in the cell below.\n",
    "\n",
    "* Create a new variable called `dt_mtn` which converts `dt_now` to mountain time.\n",
    "* Print `dt_utcnow`.\n",
    "* Print `dt_mtn`."
   ]
  },
  {
   "cell_type": "code",
   "execution_count": null,
   "id": "4a2f8705",
   "metadata": {
    "deletable": false,
    "nbgrader": {
     "cell_type": "code",
     "checksum": "14a46fe90af8d069121111e1c1f4f5e3",
     "grade": true,
     "grade_id": "cell-3ea6206c5c5eb2db",
     "locked": false,
     "points": 1,
     "schema_version": 3,
     "solution": true,
     "task": false
    }
   },
   "outputs": [],
   "source": [
    "\n",
    "# YOUR CODE HERE\n",
    "raise NotImplementedError()"
   ]
  },
  {
   "cell_type": "markdown",
   "id": "51cfc5a9",
   "metadata": {
    "deletable": false,
    "editable": false,
    "nbgrader": {
     "cell_type": "markdown",
     "checksum": "09e01abbb3120453fc1d04ac5f997d0d",
     "grade": false,
     "grade_id": "cell-d622d9f445bb38e2",
     "locked": true,
     "schema_version": 3,
     "solution": false,
     "task": false
    }
   },
   "source": [
    "Write code in the cell below.\n",
    "\n",
    "* Write a for loop to print all the time zones for `pytz`."
   ]
  },
  {
   "cell_type": "code",
   "execution_count": null,
   "id": "209e0f74",
   "metadata": {
    "deletable": false,
    "nbgrader": {
     "cell_type": "code",
     "checksum": "e3057a86c3e9501f403ef018b56cac97",
     "grade": true,
     "grade_id": "cell-7b0d568a1758dec4",
     "locked": false,
     "points": 1,
     "schema_version": 3,
     "solution": true,
     "task": false
    }
   },
   "outputs": [],
   "source": [
    "\n",
    "# YOUR CODE HERE\n",
    "raise NotImplementedError()"
   ]
  },
  {
   "cell_type": "markdown",
   "id": "0ab67044",
   "metadata": {
    "deletable": false,
    "editable": false,
    "nbgrader": {
     "cell_type": "markdown",
     "checksum": "9b7f3e4775ce78e452ffc813c324e7f6",
     "grade": false,
     "grade_id": "cell-ce26fe9cc9863eec",
     "locked": true,
     "schema_version": 3,
     "solution": false,
     "task": false
    }
   },
   "source": [
    "Write code in the cell below.\n",
    "\n",
    "* Create a variable called `dt_mtn` using the `now()` function and print it.\n",
    "* Convert the variable to a new one called `dt_east` and change the time zone to `US/Eastern`.\n",
    "* Localize the `dt_mtn` variable and print it out."
   ]
  },
  {
   "cell_type": "code",
   "execution_count": null,
   "id": "65deab49",
   "metadata": {
    "deletable": false,
    "nbgrader": {
     "cell_type": "code",
     "checksum": "3a3956cef851827db1a8b9d84b24cc92",
     "grade": true,
     "grade_id": "cell-ef63cc860acd4170",
     "locked": false,
     "points": 2,
     "schema_version": 3,
     "solution": true,
     "task": false
    }
   },
   "outputs": [],
   "source": [
    "# It should be noted that something has changed in the Python package regarding the timezone naive function.\n",
    "# The error he demonstrates changing a timezone naive variable to a timezone aware one no longer occurs.\n",
    "# It appears the timezone now defaults to your local time zone.\n",
    "\n",
    "# YOUR CODE HERE\n",
    "raise NotImplementedError()"
   ]
  },
  {
   "cell_type": "markdown",
   "id": "e7b9d58e",
   "metadata": {
    "deletable": false,
    "editable": false,
    "nbgrader": {
     "cell_type": "markdown",
     "checksum": "2176d89e966bbaa95bc1fd316aaa000a",
     "grade": false,
     "grade_id": "cell-c666ccd9e87a186a",
     "locked": true,
     "schema_version": 3,
     "solution": false,
     "task": false
    }
   },
   "source": [
    "Write code in the cell below.\n",
    "\n",
    "* Print `dt_mtn` using isoformat().\n",
    "* Print `dt_mtn` using format `%B %d, %Y`.\n",
    "* Create a new variable called `dt_str` which has a date as a string.\n",
    "* Create a new variable called `dt` and convert your new variable from a string to a datetime and print it."
   ]
  },
  {
   "cell_type": "code",
   "execution_count": null,
   "id": "facba61c",
   "metadata": {
    "deletable": false,
    "nbgrader": {
     "cell_type": "code",
     "checksum": "12c1dbf6d5ad681869d311283fc52761",
     "grade": true,
     "grade_id": "cell-a8d7417270456bb1",
     "locked": false,
     "points": 1,
     "schema_version": 3,
     "solution": true,
     "task": false
    }
   },
   "outputs": [],
   "source": [
    "dt_mtn = datetime.datetime.now(tz=pytz.timezone('US/Mountain'))\n",
    "\n",
    "print(dt_mtn)\n",
    "\n",
    "# YOUR CODE HERE\n",
    "raise NotImplementedError()"
   ]
  }
 ],
 "metadata": {
  "kernelspec": {
   "display_name": "Python 3.10.6 64-bit",
   "language": "python",
   "name": "python3"
  },
  "language_info": {
   "codemirror_mode": {
    "name": "ipython",
    "version": 3
   },
   "file_extension": ".py",
   "mimetype": "text/x-python",
   "name": "python",
   "nbconvert_exporter": "python",
   "pygments_lexer": "ipython3",
   "version": "3.10.6"
  },
  "vscode": {
   "interpreter": {
    "hash": "aee8b7b246df8f9039afb4144a1f6fd8d2ca17a180786b69acc140d282b71a49"
   }
  }
 },
 "nbformat": 4,
 "nbformat_minor": 5
}
